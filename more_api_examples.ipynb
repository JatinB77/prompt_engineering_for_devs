{
 "cells": [
  {
   "cell_type": "code",
   "execution_count": 1,
   "id": "28e1762a",
   "metadata": {},
   "outputs": [],
   "source": [
    "import os\n",
    "from openai import OpenAI"
   ]
  },
  {
   "cell_type": "code",
   "execution_count": 95,
   "id": "f5738df8",
   "metadata": {},
   "outputs": [],
   "source": [
    "from IPython.display import display, HTML\n",
    "from pprint import pprint"
   ]
  },
  {
   "cell_type": "code",
   "execution_count": 3,
   "id": "e1de05a9",
   "metadata": {},
   "outputs": [],
   "source": [
    "client = OpenAI()"
   ]
  },
  {
   "cell_type": "code",
   "execution_count": 4,
   "id": "1d01c4a2",
   "metadata": {},
   "outputs": [],
   "source": [
    "# if you didn't set an environment variable, you can use set it manually here\n",
    "# note that this is NOT good practice, and you shouldn't leave plaintext API keys in scripts!\n",
    "\n",
    "import openai\n",
    "openai.api_key  = \"\""
   ]
  },
  {
   "cell_type": "markdown",
   "id": "131968fd",
   "metadata": {},
   "source": [
    "### Our completion function"
   ]
  },
  {
   "cell_type": "code",
   "execution_count": 46,
   "id": "2911f679",
   "metadata": {},
   "outputs": [],
   "source": [
    "def get_completion_better(messages, model=\"gpt-3.5-turbo\", max_tokens = 1000, \\\n",
    "                          temperature = 1, top_p = 1, n = 1, stop = None, \\\n",
    "                          presence_penalty = 0, \\\n",
    "                          frequency_penalty = 0\n",
    "                         ): \n",
    "    \n",
    "    response = client.chat.completions.create(\n",
    "          model=\"gpt-3.5-turbo\",\n",
    "          messages=messages,\n",
    "          temperature=temperature,\n",
    "          max_tokens=max_tokens,\n",
    "          top_p=top_p,\n",
    "          n = n,\n",
    "        stop = stop,\n",
    "        presence_penalty = presence_penalty,\n",
    "        frequency_penalty = frequency_penalty\n",
    "          \n",
    "        )\n",
    "    \n",
    "    return response"
   ]
  },
  {
   "cell_type": "markdown",
   "id": "e3ba409b",
   "metadata": {},
   "source": [
    "#### Helper code to print out just the message content for multiple messages"
   ]
  },
  {
   "cell_type": "code",
   "execution_count": 41,
   "id": "f7d6dd8d",
   "metadata": {},
   "outputs": [],
   "source": [
    "def print_responses(response):\n",
    "    for r in response.choices:\n",
    "        print(\"\\n\", r.message.content)"
   ]
  },
  {
   "cell_type": "markdown",
   "id": "a0623f8c",
   "metadata": {},
   "source": [
    "#### Helper code for writing messages"
   ]
  },
  {
   "cell_type": "code",
   "execution_count": 42,
   "id": "5a62a31c",
   "metadata": {},
   "outputs": [],
   "source": [
    "prompt = \"\"\n",
    "system_msg = \"\"\n",
    "\n",
    "messages=[\n",
    "    {\n",
    "      \"role\": \"system\",\n",
    "      \"content\": system_msg,\n",
    "         \"type\": \"text\"\n",
    "    },\n",
    "    {\n",
    "      \"role\": \"user\",\n",
    "      \"content\": prompt,\n",
    "         \"type\": \"text\"\n",
    "    }\n",
    "  ]"
   ]
  },
  {
   "cell_type": "markdown",
   "id": "d8345e6c",
   "metadata": {},
   "source": [
    "### Example: Prompting persona / persona prompting (you'll see either name)\n",
    "\n",
    "You can shift a model's focus by asking the model to take on a particular persona. This can help align the output better to your intent. For example, give the model the persona of a math teacher for math questions, and an English teacher for grammar and writing tasks. "
   ]
  },
  {
   "cell_type": "code",
   "execution_count": 188,
   "id": "58d5de1d",
   "metadata": {},
   "outputs": [],
   "source": [
    "prompt = \"You are an English teacher skilled at fixing grammar in English sentences.\"\n",
    "system_msg = \"Fix the grammar of the following sentence: The sun roses in the morning.\"\n",
    "\n",
    "messages=[\n",
    "    {\n",
    "      \"role\": \"system\",\n",
    "      \"content\": system_msg,\n",
    "         \"type\": \"text\"\n",
    "    },\n",
    "    {\n",
    "      \"role\": \"user\",\n",
    "      \"content\": prompt,\n",
    "         \"type\": \"text\"\n",
    "    }\n",
    "  ]"
   ]
  },
  {
   "cell_type": "code",
   "execution_count": 189,
   "id": "62d7e356",
   "metadata": {},
   "outputs": [
    {
     "name": "stdout",
     "output_type": "stream",
     "text": [
      "\n",
      " The correct sentence should be: The sun rose in the morning.\n"
     ]
    }
   ],
   "source": [
    "response = get_completion_better(messages)\n",
    "print_responses(response)"
   ]
  },
  {
   "cell_type": "markdown",
   "id": "c9ced582",
   "metadata": {},
   "source": [
    "### Example: Asking for structured output"
   ]
  },
  {
   "cell_type": "code",
   "execution_count": 97,
   "id": "dc6c9920",
   "metadata": {},
   "outputs": [],
   "source": [
    "messages=[\n",
    "    {\n",
    "      \"role\": \"system\",\n",
    "      \"content\": \"You will be provided with unstructured data, and your task is to parse it into JSON format. Make sure \\\n",
    "      to include the actual content of the data in the output.\",\n",
    "         \"type\": \"text\"\n",
    "    },\n",
    "    {\n",
    "      \"role\": \"user\",\n",
    "      \"content\": \"There are many fruits that were found on the recently discovered planet Goocrux. \\\n",
    "        There are neoskizzles that grow there, which are purple and taste like candy. \\\n",
    "        There are also loheckles, which are a grayish blue fruit and are very tart, \\\n",
    "        a little bit like a lemon. Pounits are a bright green color and are more savory than sweet. \\\n",
    "        There are also plenty of loopnovas which are a neon pink flavor and taste like cotton candy. \\\n",
    "        Finally, there are fruits called glowls, which have a very sour and bitter taste \\\n",
    "        which is acidic and caustic, and a pale orange tinge to them.\",\n",
    "         \"type\": \"text\"\n",
    "    }\n",
    "  ]"
   ]
  },
  {
   "cell_type": "code",
   "execution_count": 98,
   "id": "205c8741",
   "metadata": {},
   "outputs": [],
   "source": [
    "response = get_completion_better(messages)"
   ]
  },
  {
   "cell_type": "code",
   "execution_count": 99,
   "id": "e642cf31",
   "metadata": {},
   "outputs": [
    {
     "name": "stdout",
     "output_type": "stream",
     "text": [
      "\n",
      " {\n",
      "    \"fruits_found_on_planet_Goocrux\": {\n",
      "        \"neoskizzles\": {\n",
      "            \"description\": \"Purple fruits that taste like candy\",\n",
      "            \"color\": \"purple\"\n",
      "        },\n",
      "        \"loheckles\": {\n",
      "            \"description\": \"Grayish blue fruits that are very tart, similar to lemons\",\n",
      "            \"color\": \"grayish blue\"\n",
      "        },\n",
      "        \"pounits\": {\n",
      "            \"description\": \"Bright green fruits that are more savory than sweet\",\n",
      "            \"color\": \"bright green\"\n",
      "        },\n",
      "        \"loopnovas\": {\n",
      "            \"description\": \"Neon pink fruits that taste like cotton candy\",\n",
      "            \"color\": \"neon pink\"\n",
      "        },\n",
      "        \"glowls\": {\n",
      "            \"description\": \"Fruits with a very sour, bitter, acidic, and caustic taste with a pale orange tinge\",\n",
      "            \"color\": \"pale orange\"\n",
      "        }\n",
      "    }\n",
      "}\n"
     ]
    }
   ],
   "source": [
    "print_responses(response)"
   ]
  },
  {
   "cell_type": "markdown",
   "id": "e0a410a5",
   "metadata": {},
   "source": [
    "### Example: Adding prior chat history to API call"
   ]
  },
  {
   "cell_type": "code",
   "execution_count": 100,
   "id": "5fcff9ed",
   "metadata": {},
   "outputs": [
    {
     "name": "stdout",
     "output_type": "stream",
     "text": [
      "[{'content': 'You will be provided with unstructured data, and your task is to '\n",
      "             'parse it into JSON format. Make sure       to include the actual '\n",
      "             'content of the data in the output.',\n",
      "  'role': 'system',\n",
      "  'type': 'text'},\n",
      " {'content': 'There are many fruits that were found on the recently discovered '\n",
      "             'planet Goocrux.         There are neoskizzles that grow there, '\n",
      "             'which are purple and taste like candy.         There are also '\n",
      "             'loheckles, which are a grayish blue fruit and are very '\n",
      "             'tart,         a little bit like a lemon. Pounits are a bright '\n",
      "             'green color and are more savory than sweet.         There are '\n",
      "             'also plenty of loopnovas which are a neon pink flavor and taste '\n",
      "             'like cotton candy.         Finally, there are fruits called '\n",
      "             'glowls, which have a very sour and bitter taste         which is '\n",
      "             'acidic and caustic, and a pale orange tinge to them.',\n",
      "  'role': 'user',\n",
      "  'type': 'text'},\n",
      " {'content': '{\\n'\n",
      "             '    \"fruits_found_on_planet_Goocrux\": {\\n'\n",
      "             '        \"neoskizzles\": {\\n'\n",
      "             '            \"description\": \"Purple fruits that taste like '\n",
      "             'candy\",\\n'\n",
      "             '            \"color\": \"purple\"\\n'\n",
      "             '        },\\n'\n",
      "             '        \"loheckles\": {\\n'\n",
      "             '            \"description\": \"Grayish blue fruits that are very '\n",
      "             'tart, similar to lemons\",\\n'\n",
      "             '            \"color\": \"grayish blue\"\\n'\n",
      "             '        },\\n'\n",
      "             '        \"pounits\": {\\n'\n",
      "             '            \"description\": \"Bright green fruits that are more '\n",
      "             'savory than sweet\",\\n'\n",
      "             '            \"color\": \"bright green\"\\n'\n",
      "             '        },\\n'\n",
      "             '        \"loopnovas\": {\\n'\n",
      "             '            \"description\": \"Neon pink fruits that taste like '\n",
      "             'cotton candy\",\\n'\n",
      "             '            \"color\": \"neon pink\"\\n'\n",
      "             '        },\\n'\n",
      "             '        \"glowls\": {\\n'\n",
      "             '            \"description\": \"Fruits with a very sour, bitter, '\n",
      "             'acidic, and caustic taste with a pale orange tinge\",\\n'\n",
      "             '            \"color\": \"pale orange\"\\n'\n",
      "             '        }\\n'\n",
      "             '    }\\n'\n",
      "             '}',\n",
      "  'role': 'assistant'}]\n"
     ]
    }
   ],
   "source": [
    "messages.append({\"role\": \"assistant\", \"content\": response.choices[0].message.content})\n",
    "pprint(messages)"
   ]
  },
  {
   "cell_type": "code",
   "execution_count": 101,
   "id": "9cf2042c",
   "metadata": {},
   "outputs": [],
   "source": [
    "new_message = {\n",
    "      \"role\": \"user\",\n",
    "      \"content\": \"A new fruit was discovered. It's named mloupmloup. It's hot pink in color and tastes like rainbows.\",\n",
    "         \"type\": \"text\"\n",
    "    }"
   ]
  },
  {
   "cell_type": "code",
   "execution_count": 102,
   "id": "bc962179",
   "metadata": {},
   "outputs": [
    {
     "name": "stdout",
     "output_type": "stream",
     "text": [
      "\n",
      " {\n",
      "    \"newly_discovered_fruit\": {\n",
      "        \"name\": \"mloupmloup\",\n",
      "        \"description\": \"Hot pink fruit that tastes like rainbows\",\n",
      "        \"color\": \"hot pink\"\n",
      "    }\n",
      "}\n"
     ]
    }
   ],
   "source": [
    "messages.append(new_message)\n",
    "\n",
    "response = get_completion_better(messages)\n",
    "print_responses(response)"
   ]
  },
  {
   "cell_type": "markdown",
   "id": "b80efa67",
   "metadata": {},
   "source": [
    "### Example: Helper function to add assistant response to current list of messsages"
   ]
  },
  {
   "cell_type": "code",
   "execution_count": 130,
   "id": "261fe0b3",
   "metadata": {},
   "outputs": [],
   "source": [
    "def add_assistant_response(messages, new_assistant_response):\n",
    "    \n",
    "    messages.append({\"role\": \"assistant\", \"content\": new_assistant_response.choices[0].message.content, \"type\":\"text\"})\n",
    "    return messages"
   ]
  },
  {
   "cell_type": "code",
   "execution_count": 131,
   "id": "94491ec0",
   "metadata": {},
   "outputs": [],
   "source": [
    "def add_new_user_messages(messages, new_user_prompt):\n",
    "    messages.append({\"role\": \"user\", \"content\": new_user_prompt, \"type\":\"text\"})\n",
    "    return messages"
   ]
  },
  {
   "cell_type": "code",
   "execution_count": 132,
   "id": "ff9787b9",
   "metadata": {},
   "outputs": [
    {
     "name": "stdout",
     "output_type": "stream",
     "text": [
      "\n",
      " {\n",
      "    \"fruits_found_on_planet_Goocrux\": {\n",
      "        \"neoskizzles\": {\n",
      "            \"description\": \"Purple fruits that taste like candy\",\n",
      "            \"color\": \"purple\",\n",
      "            \"taste\": \"sweet\"\n",
      "        },\n",
      "        \"loheckles\": {\n",
      "            \"description\": \"Grayish blue fruits that are very tart, akin to lemon\",\n",
      "            \"color\": \"grayish blue\",\n",
      "            \"taste\": \"tart\"\n",
      "        },\n",
      "        \"pounits\": {\n",
      "            \"description\": \"Bright green fruits that are more savory than sweet\",\n",
      "            \"color\": \"bright green\",\n",
      "            \"taste\": \"savory\"\n",
      "        },\n",
      "        \"loopnovas\": {\n",
      "            \"description\": \"Neon pink fruits that taste like cotton candy\",\n",
      "            \"color\": \"neon pink\",\n",
      "            \"taste\": \"sweet\"\n",
      "        },\n",
      "        \"glowls\": {\n",
      "            \"description\": \"Fruits with a sour, bitter, acidic, and caustic taste with a pale orange tinge\",\n",
      "            \"color\": \"pale orange\",\n",
      "            \"taste\": \"sour/bitter/acidity\"\n",
      "        }\n",
      "    }\n",
      "}\n"
     ]
    }
   ],
   "source": [
    "messages=[\n",
    "    {\n",
    "      \"role\": \"system\",\n",
    "      \"content\": \"You will be provided with unstructured data, and your task is to parse it into JSON format. Make sure \\\n",
    "      to include the actual content of the data in the output.\",\n",
    "         \"type\": \"text\"\n",
    "    },\n",
    "    {\n",
    "      \"role\": \"user\",\n",
    "      \"content\": \"There are many fruits that were found on the recently discovered planet Goocrux. \\\n",
    "        There are neoskizzles that grow there, which are purple and taste like candy. \\\n",
    "        There are also loheckles, which are a grayish blue fruit and are very tart, \\\n",
    "        a little bit like a lemon. Pounits are a bright green color and are more savory than sweet. \\\n",
    "        There are also plenty of loopnovas which are a neon pink flavor and taste like cotton candy. \\\n",
    "        Finally, there are fruits called glowls, which have a very sour and bitter taste \\\n",
    "        which is acidic and caustic, and a pale orange tinge to them.\",\n",
    "         \"type\": \"text\"\n",
    "    }\n",
    "  ]\n",
    "\n",
    "response = get_completion_better(messages)\n",
    "print_responses(response)"
   ]
  },
  {
   "cell_type": "code",
   "execution_count": 133,
   "id": "5ff1cef9",
   "metadata": {},
   "outputs": [],
   "source": [
    "messages = add_assistant_response(messages, response)\n",
    "\n",
    "new_user_prompt = f\"A new fruit was discovered. It's called mloupmloup. It's dark green and tastes like grass.\"\n",
    "messages = add_new_user_messages(messages, new_user_prompt)"
   ]
  },
  {
   "cell_type": "code",
   "execution_count": 134,
   "id": "23c3949f",
   "metadata": {},
   "outputs": [
    {
     "name": "stdout",
     "output_type": "stream",
     "text": [
      "\n",
      " {\n",
      "    \"newly_discovered_fruit\": {\n",
      "        \"name\": \"mloupmloup\",\n",
      "        \"description\": \"Dark green fruit that tastes like grass\",\n",
      "        \"color\": \"dark green\",\n",
      "        \"taste\": \"grassy\"\n",
      "    }\n",
      "}\n"
     ]
    }
   ],
   "source": [
    "response = get_completion_better(messages)\n",
    "print_responses(response)"
   ]
  },
  {
   "cell_type": "markdown",
   "id": "ac2fc597",
   "metadata": {},
   "source": [
    "### Example: One-shot prompting"
   ]
  },
  {
   "cell_type": "code",
   "execution_count": 140,
   "id": "50b43285",
   "metadata": {},
   "outputs": [
    {
     "name": "stdout",
     "output_type": "stream",
     "text": [
      "One radiant morning, a tenacious young girl named Lucy unearthed a secret in her own house. Amid the stacks of aged books, discarded furniture, and vintage trinkets in the dusty corners of her attic, something peculiar gracefully caught her attention. It was a unique amulet exuding hues of the morning sun, its aura enchanting like a magical artifact from an ancient lore.\n"
     ]
    }
   ],
   "source": [
    "# Define the one-shot prompt\n",
    "prompt = \"\"\"\n",
    "You are a creative writing assistant. Write a creative story beginning based on the prompt below:\n",
    "\n",
    "Prompt: A dragon discovers a hidden village in the mountains.\n",
    "Story: Once upon a time, in a faraway mountain range, a mighty dragon stumbled upon a village hidden among the peaks. The village was unlike any the dragon had ever seen...\n",
    "\n",
    "Prompt: A young girl finds a magical amulet in her attic.\n",
    "Story:\n",
    "\"\"\"\n",
    "\n",
    "# Make the API call with the one-shot prompt\n",
    "response = client.chat.completions.create(\n",
    "    model=\"gpt-4\",\n",
    "    messages=[\n",
    "        {\"role\": \"system\", \"content\": \"You are a creative writing assistant.\"},\n",
    "        {\"role\": \"user\", \"content\": prompt}\n",
    "    ]\n",
    ")\n",
    "\n",
    "# Print the response\n",
    "print(response.choices[0].message.content)"
   ]
  },
  {
   "cell_type": "markdown",
   "id": "4be488c4",
   "metadata": {},
   "source": [
    "### Example: Few-shot prompting\n",
    "\n",
    "Does the story improve?"
   ]
  },
  {
   "cell_type": "code",
   "execution_count": 141,
   "id": "61c0c9f6",
   "metadata": {},
   "outputs": [
    {
     "name": "stdout",
     "output_type": "stream",
     "text": [
      "Detective Richard had been engrossed in case files when his assistant walked in holding a peculiar envelope. With a raised eyebrow, he opened the mysterious letter to find a coded message inside. This was the start of a case unlike any other he had ever solved...\n"
     ]
    }
   ],
   "source": [
    "# Define the few-shot prompt\n",
    "prompt = \"\"\"\n",
    "You are a creative writing assistant. Write a creative story beginning based on the prompt below:\n",
    "\n",
    "Prompt: A dragon discovers a hidden village in the mountains.\n",
    "Story: Once upon a time, in a faraway mountain range, a mighty dragon stumbled upon a village hidden among the peaks. The village was unlike any the dragon had ever seen...\n",
    "\n",
    "Prompt: A young girl finds a magical amulet in her attic.\n",
    "Story: Emily had always been curious about the old attic. One rainy afternoon, she decided to explore it and found a dusty, old box. Inside, there was a beautiful amulet that shimmered with a strange light...\n",
    "\n",
    "Prompt: A spaceship lands in the middle of a desert.\n",
    "Story: In the vast expanse of the desert, a bright light descended from the sky. As it touched the ground, the sand swirled around it, revealing a sleek spaceship. The hatch opened, and out stepped a figure...\n",
    "\n",
    "Prompt: A detective receives a mysterious letter.\n",
    "Story:\n",
    "\"\"\"\n",
    "\n",
    "# Make the API call with the few-shot prompt\n",
    "response = client.chat.completions.create(\n",
    "    model=\"gpt-4\",\n",
    "    messages=[\n",
    "        {\"role\": \"system\", \"content\": \"You are a creative writing assistant.\"},\n",
    "        {\"role\": \"user\", \"content\": prompt}\n",
    "    ]\n",
    ")\n",
    "\n",
    "# Print the response\n",
    "print(response.choices[0].message.content)"
   ]
  },
  {
   "cell_type": "markdown",
   "id": "786c2d63",
   "metadata": {},
   "source": [
    "### Example: Another example of few-shot prompting"
   ]
  },
  {
   "cell_type": "code",
   "execution_count": 166,
   "id": "ad1e519b",
   "metadata": {},
   "outputs": [
    {
     "name": "stdout",
     "output_type": "stream",
     "text": [
      "\n",
      " Word: Angry\n",
      "Synonyms: Furious, Irritated, Incensed\n"
     ]
    }
   ],
   "source": [
    "prompt = f\"\"\"\n",
    "Provide three synonyms for the given words:\n",
    "\n",
    "Word: Happy\n",
    "Synonyms: Joyful, Cheerful, Content\n",
    "\n",
    "Word: Sad\n",
    "Synonyms: Unhappy, Downcast, Miserable\n",
    "\n",
    "Word: Angry\n",
    "Synonyms:\n",
    "\"\"\"\n",
    "\n",
    "system_msg = \"You are a helpful assistant.\"\n",
    "\n",
    "messages=[\n",
    "    {\n",
    "      \"role\": \"system\",\n",
    "      \"content\": system_msg,\n",
    "         \"type\": \"text\"\n",
    "    },\n",
    "    {\n",
    "      \"role\": \"user\",\n",
    "      \"content\": prompt,\n",
    "         \"type\": \"text\"\n",
    "    }\n",
    "  ]\n",
    "\n",
    "response = get_completion_better(messages)\n",
    "print_responses(response)"
   ]
  },
  {
   "cell_type": "code",
   "execution_count": null,
   "id": "1ef7a4c5",
   "metadata": {},
   "outputs": [],
   "source": []
  },
  {
   "cell_type": "markdown",
   "id": "7cef6b06",
   "metadata": {},
   "source": [
    "### Your task: Practice one-shot, two-shot and few-shot prompting\n",
    "\n",
    "Pick a task for the model to do and try prompts that include no examples and prompts that include one or several examples. Do you see any improvement in the model outputs?"
   ]
  },
  {
   "cell_type": "code",
   "execution_count": null,
   "id": "5d1fccdc",
   "metadata": {},
   "outputs": [],
   "source": []
  },
  {
   "cell_type": "code",
   "execution_count": null,
   "id": "c43b7caf",
   "metadata": {},
   "outputs": [],
   "source": []
  },
  {
   "cell_type": "code",
   "execution_count": null,
   "id": "8dc4e3ef",
   "metadata": {},
   "outputs": [],
   "source": []
  },
  {
   "cell_type": "code",
   "execution_count": null,
   "id": "9c08d9a3",
   "metadata": {},
   "outputs": [],
   "source": []
  },
  {
   "cell_type": "markdown",
   "id": "0d1b3dbb",
   "metadata": {},
   "source": [
    "## Examples: Summarizing "
   ]
  },
  {
   "cell_type": "code",
   "execution_count": 142,
   "id": "eb967e7b",
   "metadata": {},
   "outputs": [],
   "source": [
    "product_review = \"\"\"\n",
    "\n",
    "I recently purchased the pink stuffed animal panda, and I am absolutely thrilled with my purchase! The panda is the perfect size for cuddling, standing at about 12 inches tall. It’s not too big to be cumbersome, but large enough to make a significant presence on a bed or shelf.\n",
    "\n",
    "The quality of this stuffed animal is top-notch. The fabric is incredibly soft to the touch, and the stitching is durable and well-done. I can tell this panda is made to last, even with regular use. The attention to detail, especially in the facial features and the cute little ears, is impressive.\n",
    "\n",
    "This pink panda is beyond cute! The color is a lovely shade of pink, not too bright and very pleasing to the eyes. The panda has the sweetest expression, making it an instant favorite. It’s the perfect gift for anyone who loves pandas or simply enjoys collecting cute stuffed animals.\n",
    "\n",
    "I was pleasantly surprised by how quickly the panda arrived. I placed my order on a Monday, and it was delivered by Wednesday, which is quite fast. The company clearly prioritizes prompt shipping. The packaging was excellent. The stuffed animal was placed in a plastic bag to protect it from any potential dirt or damage. This bag was then inside a sturdy box with ample padding to ensure that the panda arrived in pristine condition. I appreciate the care taken to pack the item securely.\n",
    "\n",
    "Overall, I couldn’t be happier with this pink stuffed animal panda. It’s a perfect blend of size, quality, and cuteness, with the added bonus of fast shipping and secure packaging. Highly recommended for anyone looking for a delightful gift or a new addition to their stuffed animal collection!\n",
    "\"\"\""
   ]
  },
  {
   "cell_type": "markdown",
   "id": "f605cee4",
   "metadata": {},
   "source": [
    "### Asking for a summary of a certain length"
   ]
  },
  {
   "cell_type": "code",
   "execution_count": 147,
   "id": "2b8597d6",
   "metadata": {},
   "outputs": [
    {
     "name": "stdout",
     "output_type": "stream",
     "text": [
      "\n",
      " This review raves about the pink stuffed animal panda, praising its quality, size, cuteness, and fast shipping. Highly recommended for those seeking a delightful gift.\n"
     ]
    }
   ],
   "source": [
    "prompt = f\"\"\"\n",
    "Please write a summary of a product review left on our ecommerce site.\n",
    "\n",
    "The review is delimited by triple backticks. Summarize it in at most 30 words. \n",
    "\n",
    "Review: ```{product_review}```\n",
    "\"\"\"\n",
    "\n",
    "system_msg = \"You are a helpful assistant.\"\n",
    "\n",
    "messages=[\n",
    "    {\n",
    "      \"role\": \"system\",\n",
    "      \"content\": system_msg,\n",
    "         \"type\": \"text\"\n",
    "    },\n",
    "    {\n",
    "      \"role\": \"user\",\n",
    "      \"content\": prompt,\n",
    "         \"type\": \"text\"\n",
    "    }\n",
    "  ]\n",
    "\n",
    "response = get_completion_better(messages)\n",
    "print_responses(response)"
   ]
  },
  {
   "cell_type": "markdown",
   "id": "70778486",
   "metadata": {},
   "source": [
    "### Summarize with a particular focus, e.g. quality or shipping"
   ]
  },
  {
   "cell_type": "code",
   "execution_count": 150,
   "id": "8188de86",
   "metadata": {},
   "outputs": [
    {
     "name": "stdout",
     "output_type": "stream",
     "text": [
      "\n",
      " High-quality pink stuffed panda with soft fabric, durable stitching, and impressive detailing. Fast shipping and secure packaging show care for the product. Recommended for gift or collection.\n"
     ]
    }
   ],
   "source": [
    "prompt = f\"\"\"\n",
    "Our quality assurance department wants to know what customers think of the quality of our products.\n",
    "\n",
    "Write a summary of a product review with a focus on anything related to quality.\n",
    "\n",
    "The review is delimited by triple backticks. Summarize it in at most 30 words. \n",
    "\n",
    "Review: ```{product_review}```\n",
    "\"\"\"\n",
    "\n",
    "system_msg = \"You are a helpful assistant who cares about the quality of products.\"\n",
    "\n",
    "messages=[\n",
    "    {\n",
    "      \"role\": \"system\",\n",
    "      \"content\": system_msg,\n",
    "         \"type\": \"text\"\n",
    "    },\n",
    "    {\n",
    "      \"role\": \"user\",\n",
    "      \"content\": prompt,\n",
    "         \"type\": \"text\"\n",
    "    }\n",
    "  ]\n",
    "\n",
    "response = get_completion_better(messages)\n",
    "print_responses(response)"
   ]
  },
  {
   "cell_type": "code",
   "execution_count": 151,
   "id": "020e8ea9",
   "metadata": {},
   "outputs": [
    {
     "name": "stdout",
     "output_type": "stream",
     "text": [
      "\n",
      " Fast shipping, secure packaging, high-quality product - customer thrilled with pink stuffed animal panda purchase. Highly recommended for size, quality, and cuteness.\n"
     ]
    }
   ],
   "source": [
    "prompt = f\"\"\"\n",
    "Our shipping partner wants to know what customers think of the shipping speed and packaging of our products.\n",
    "\n",
    "Write a summary of a product review with a focus on anything related to shipping and how the product was packaged.\n",
    "\n",
    "The review is delimited by triple backticks. Summarize it in at most 30 words. \n",
    "\n",
    "Review: ```{product_review}```\n",
    "\"\"\"\n",
    "\n",
    "system_msg = \"You are a helpful assistant who cares about shipping.\"\n",
    "\n",
    "messages=[\n",
    "    {\n",
    "      \"role\": \"system\",\n",
    "      \"content\": system_msg,\n",
    "         \"type\": \"text\"\n",
    "    },\n",
    "    {\n",
    "      \"role\": \"user\",\n",
    "      \"content\": prompt,\n",
    "         \"type\": \"text\"\n",
    "    }\n",
    "  ]\n",
    "\n",
    "response = get_completion_better(messages)\n",
    "print_responses(response)"
   ]
  },
  {
   "cell_type": "markdown",
   "id": "768eab3c",
   "metadata": {},
   "source": [
    "## Your task: ask for summaries using different words, such as \"extract\" and \"distill\"\n",
    "\n",
    "Try the above task again, but try to use different words instead of just summarize. You can ask ChatGPT to write you more fake reviews for products, or pull real product reviews for your favorite items!"
   ]
  },
  {
   "cell_type": "code",
   "execution_count": null,
   "id": "ad06c35a",
   "metadata": {},
   "outputs": [],
   "source": []
  },
  {
   "cell_type": "code",
   "execution_count": null,
   "id": "d4af9238",
   "metadata": {},
   "outputs": [],
   "source": []
  },
  {
   "cell_type": "code",
   "execution_count": null,
   "id": "c4988cca",
   "metadata": {},
   "outputs": [],
   "source": []
  },
  {
   "cell_type": "markdown",
   "id": "c9fbeb86",
   "metadata": {},
   "source": [
    "### Example: Product review sentiment"
   ]
  },
  {
   "cell_type": "code",
   "execution_count": 152,
   "id": "989f0993",
   "metadata": {},
   "outputs": [
    {
     "name": "stdout",
     "output_type": "stream",
     "text": [
      "\n",
      " The sentiment of the product review is overwhelmingly positive. The reviewer expresses great satisfaction with the pink stuffed animal panda, highlighting its size, quality, cuteness, fast shipping, and secure packaging. The language used throughout the review is enthusiastic and complimentary, indicating a very positive sentiment towards the product.\n"
     ]
    }
   ],
   "source": [
    "prompt = f\"\"\"\n",
    "What is the sentiment of the following product review, \n",
    "which is delimited with triple backticks?\n",
    "\n",
    "Review text: '''{product_review}'''\n",
    "\"\"\"\n",
    "\n",
    "system_msg = \"You are a helpful assistant.\"\n",
    "\n",
    "messages=[\n",
    "    {\n",
    "      \"role\": \"system\",\n",
    "      \"content\": system_msg,\n",
    "         \"type\": \"text\"\n",
    "    },\n",
    "    {\n",
    "      \"role\": \"user\",\n",
    "      \"content\": prompt,\n",
    "         \"type\": \"text\"\n",
    "    }\n",
    "  ]\n",
    "\n",
    "response = get_completion_better(messages)\n",
    "print_responses(response)"
   ]
  },
  {
   "cell_type": "markdown",
   "id": "020377fa",
   "metadata": {},
   "source": [
    "### ... the sentiment was correct, but that's a lot of words! Can we do better?"
   ]
  },
  {
   "cell_type": "code",
   "execution_count": null,
   "id": "8cbc7de6",
   "metadata": {},
   "outputs": [],
   "source": []
  },
  {
   "cell_type": "code",
   "execution_count": null,
   "id": "66832fcb",
   "metadata": {},
   "outputs": [],
   "source": []
  },
  {
   "cell_type": "code",
   "execution_count": null,
   "id": "43c91bee",
   "metadata": {},
   "outputs": [],
   "source": []
  },
  {
   "cell_type": "markdown",
   "id": "dfb1b8bf",
   "metadata": {},
   "source": [
    "### Example: Asking for sentiment with one word"
   ]
  },
  {
   "cell_type": "code",
   "execution_count": 153,
   "id": "20394052",
   "metadata": {},
   "outputs": [
    {
     "name": "stdout",
     "output_type": "stream",
     "text": [
      "\n",
      " positive\n"
     ]
    }
   ],
   "source": [
    "prompt = f\"\"\"\n",
    "What is the sentiment of the following product review, \n",
    "which is delimited with triple backticks?\n",
    "\n",
    "Give your answer as a single word, either \"positive\" or \"negative\".\n",
    "\n",
    "Review text: '''{product_review}'''\n",
    "\"\"\"\n",
    "\n",
    "system_msg = \"You are a helpful assistant.\"\n",
    "\n",
    "messages=[\n",
    "    {\n",
    "      \"role\": \"system\",\n",
    "      \"content\": system_msg,\n",
    "         \"type\": \"text\"\n",
    "    },\n",
    "    {\n",
    "      \"role\": \"user\",\n",
    "      \"content\": prompt,\n",
    "         \"type\": \"text\"\n",
    "    }\n",
    "  ]\n",
    "\n",
    "response = get_completion_better(messages)\n",
    "print_responses(response)"
   ]
  },
  {
   "cell_type": "markdown",
   "id": "aa154b11",
   "metadata": {},
   "source": [
    "### Example: asking for types of emotions in a review"
   ]
  },
  {
   "cell_type": "code",
   "execution_count": 154,
   "id": "d12939e1",
   "metadata": {},
   "outputs": [
    {
     "name": "stdout",
     "output_type": "stream",
     "text": [
      "\n",
      " excited, impressed, pleased, surprised, happy\n"
     ]
    }
   ],
   "source": [
    "prompt = f\"\"\"\n",
    "Identify a list of emotions that the writer of the following review is expressing. \n",
    "\n",
    "Include no more than five items in the list. \n",
    "\n",
    "Format your answer as a list of lower-case words separated by commas.\n",
    "\n",
    "Review text: '''{product_review}'''\n",
    "\"\"\"\n",
    "\n",
    "system_msg = \"You are a helpful assistant.\"\n",
    "\n",
    "messages=[\n",
    "    {\n",
    "      \"role\": \"system\",\n",
    "      \"content\": system_msg,\n",
    "         \"type\": \"text\"\n",
    "    },\n",
    "    {\n",
    "      \"role\": \"user\",\n",
    "      \"content\": prompt,\n",
    "         \"type\": \"text\"\n",
    "    }\n",
    "  ]\n",
    "\n",
    "response = get_completion_better(messages)\n",
    "print_responses(response)"
   ]
  },
  {
   "cell_type": "markdown",
   "id": "0dcdd2d2",
   "metadata": {},
   "source": [
    "### Example: Identify a specific type of emotion"
   ]
  },
  {
   "cell_type": "code",
   "execution_count": 155,
   "id": "6e95a3c1",
   "metadata": {},
   "outputs": [
    {
     "name": "stdout",
     "output_type": "stream",
     "text": [
      "\n",
      " No\n"
     ]
    }
   ],
   "source": [
    "prompt = f\"\"\"\n",
    "Is the writer of the following review expressing anger?\n",
    "\n",
    "The review is delimited with triple backticks. \n",
    "\n",
    "Give your answer as either yes or no.\n",
    "Review text: '''{product_review}'''\n",
    "\"\"\"\n",
    "\n",
    "system_msg = \"You are a helpful assistant.\"\n",
    "\n",
    "messages=[\n",
    "    {\n",
    "      \"role\": \"system\",\n",
    "      \"content\": system_msg,\n",
    "         \"type\": \"text\"\n",
    "    },\n",
    "    {\n",
    "      \"role\": \"user\",\n",
    "      \"content\": prompt,\n",
    "         \"type\": \"text\"\n",
    "    }\n",
    "  ]\n",
    "\n",
    "response = get_completion_better(messages)\n",
    "print_responses(response)"
   ]
  },
  {
   "cell_type": "markdown",
   "id": "64ac9efd",
   "metadata": {},
   "source": [
    "### Example: Identify multiple attributes from a review"
   ]
  },
  {
   "cell_type": "code",
   "execution_count": 156,
   "id": "1410c989",
   "metadata": {},
   "outputs": [
    {
     "name": "stdout",
     "output_type": "stream",
     "text": [
      "\n",
      " ```json\n",
      "{\n",
      "    \"Sentiment\": \"positive\",\n",
      "    \"Anger\": false,\n",
      "    \"Item\": \"stuffed animal panda\",\n",
      "    \"Color\": \"pink\"\n",
      "}\n",
      "```\n"
     ]
    }
   ],
   "source": [
    "prompt = f\"\"\"\n",
    "Identify the following items from the review text: \n",
    "- Sentiment (positive or negative)\n",
    "- Is the reviewer expressing anger? (true or false)\n",
    "- Item purchased by reviewer\n",
    "- Color of the item\n",
    "\n",
    "The review is delimited with triple backticks. \n",
    "\n",
    "Format your response as a JSON object with \"Sentiment\", \"Anger\", \"Item\" and \"Color\" as the keys.\n",
    "\n",
    "If you don't know a value for a given attribute, write \"NA\".\n",
    "\n",
    "Make your response as short as possible.\n",
    "Format the Anger value as a boolean.\n",
    "\n",
    "Review text: '''{product_review}'''\n",
    "\"\"\"\n",
    "\n",
    "system_msg = \"You are a helpful assistant.\"\n",
    "\n",
    "messages=[\n",
    "    {\n",
    "      \"role\": \"system\",\n",
    "      \"content\": system_msg,\n",
    "         \"type\": \"text\"\n",
    "    },\n",
    "    {\n",
    "      \"role\": \"user\",\n",
    "      \"content\": prompt,\n",
    "         \"type\": \"text\"\n",
    "    }\n",
    "  ]\n",
    "\n",
    "response = get_completion_better(messages)\n",
    "print_responses(response)"
   ]
  },
  {
   "cell_type": "markdown",
   "id": "adad24ca",
   "metadata": {},
   "source": [
    "### Example: Inferring topics from an article"
   ]
  },
  {
   "cell_type": "code",
   "execution_count": 157,
   "id": "a0928e95",
   "metadata": {},
   "outputs": [],
   "source": [
    "# source: https://www.scientificamerican.com/article/carbon-removal-is-catching-on-but-it-needs-to-go-faster/\n",
    "\n",
    "article = \"\"\"\n",
    "The world still isn’t sucking enough carbon dioxide out of the atmosphere to meet the Paris climate targets, scientists said Tuesday. And the gap grows wider every year that humanity delays meaningful cuts to global greenhouse gas emissions.\n",
    "\n",
    "That’s the punchline of a new report on the state of global carbon dioxide removal, the practice of drawing CO2 out of the air to help tackle climate change. It's an update to the report's first edition, which was published in January 2023.\n",
    "\n",
    "Nations worldwide are scrubbing about 2 billion metric tons of carbon dioxide each year, mainly by planting trees, the report says. But experts estimate they’ll need to remove at least 7 billion tons annually by midcentury.\n",
    "\n",
    "Meanwhile, global emissions must fall rapidly to stay on the Paris track. Humanity spews nearly 40 billion metric tons of carbon dioxide each year through the burning of fossil fuels.\n",
    "\n",
    "Scientists agree the primary strategy for tackling climate change is through a reduction of greenhouse gas emissions, mainly by phasing out fossil fuels and halting deforestation. But they also agree at least some carbon removal is necessary to keep global warming below 1.5 or 2 degrees Celsius, the major goals of the Paris Agreement.\n",
    "\n",
    "That’s because global emissions must reach net zero within a few decades to meet the Paris timeline, meaning any remaining carbon going into the atmosphere must be counterbalanced by an equal amount coming out.\n",
    "\n",
    "Carbon dioxide removal, or CDR, is the \"only way really to provide a balance of net zero if we still have residual emissions in the system,” said Steve Smith, a climate science and policy expert at the University of Oxford and a lead author of the new report, at a press conference Tuesday.\n",
    "\n",
    "The simplest way to hit net zero is to stop pouring carbon dioxide into the air. But some sectors of the economy likely cannot be fully decarbonized within the next few decades, either because the technology doesn’t exist yet or it can’t be scaled up quickly enough.\n",
    "\n",
    "That means some residual emissions will be leftover by midcentury, and world leaders will need to offset them with carbon removal.\n",
    "\n",
    "There are a variety of ways that can be done. Planting forests is the most popular strategy today, accounting for nearly all the carbon removal happening around the world. But researchers are working on a range of novel techniques on the side, from giant carbon-guzzling machines to special minerals that help the land or the ocean absorb more CO2.\n",
    "\n",
    "Global interest and investment in carbon removal has risen in recent years, the report notes.\n",
    "\n",
    "While novel CDR strategies account for less than 0.1 percent of global carbon removal capacity, they’re expanding faster than conventional methods, the new report finds. Grant funding for carbon removal research projects has steadily increased.\n",
    "\n",
    "And there’s been a major jump in demonstration programs for new kinds of carbon removal techniques, particularly in the United States. The country’s first commercial direct air capture plant, built by Heirloom Carbon Technologies, opened in California last November.\n",
    "\n",
    "Yet there’s still room for expansion. After a period of rapid growth in prior decades, new carbon removal patents have slowed since 2010. And while investment in carbon removal startups has generally increased over the past decade, it’s also declined after peaking in 2022.\n",
    "\n",
    "There’s also a dearth of global policies that could incentivize companies to swiftly scale up their carbon removal capacity, the report notes.\n",
    "\n",
    "For now, the voluntary carbon market — which allows companies and other carbon emitters to buy and sell carbon credits — is a small but growing source of demand for carbon removal projects.\n",
    "\n",
    "Yet the market has attracted widespread criticism from experts who point out that carbon offsets are often less effective at reducing or removing emissions than the public is led to believe. And as of 2023, carbon removal credits accounted for less than 10 percent of the total credits sold on the voluntary carbon market.\n",
    "\n",
    "That means there’s still a need for governments to implement policies that will spur more carbon removal innovation and expansion, the report suggests.\n",
    "\n",
    "“We don’t see that policy signal yet,” said Greg Nemet, an environmental policy expert at the University of Wisconsin and another lead report author. “And we think that’s a really important lacking area that needs to be changed from a policy perspective.”\n",
    "\n",
    "MIND THE GAP\n",
    "Meanwhile, the report notes, countries must flesh out their long-term plans around emissions reductions and carbon removal. Recent studies have warned that most nations have not yet assembled comprehensive strategies for how they will achieve net zero in the coming decades.\n",
    "\n",
    "Based on the long-term carbon removal plans that national governments have proposed, the new report estimates there’s still a significant gap between the amount of CDR expected by the year 2050 and the amount the world needs to keep temperatures below 1.5 degrees.\n",
    "\n",
    "The size of the gap depends strongly on the strategies that world leaders use to reduce emissions and draw down carbon in the coming decades. The most sustainable pathways to meeting the Paris target generally suggest the world will need between 7 billion and 9 billion metric tons of carbon removal by the year 2050.\n",
    "\n",
    "But it could be done with less. One of the most ambitious future scenarios that experts have modeled suggests the world could achieve 1.5C with only about 4.8 billion metric tons of annual carbon removal by the year 2050.\n",
    "\n",
    "Based on countries’ current pledges, world leaders might get close. One of the best-case scenarios estimates the planet could be on track for about 4.4 billion tons of carbon removal by midcentury. That’s still a gap, but a relatively small one.\n",
    "\n",
    "But that scenario comes with an important caveat. The analysis assumes that global greenhouse emissions are swiftly falling. They haven’t — in fact, they’re still rising.\n",
    "\n",
    "That means the carbon removal gap likely is larger than the report suggests.\n",
    "\n",
    "Even as experts say that global carbon removal is falling short, some scientists are worried more investment could backfire. They argue that a focus on carbon removal could detract from global efforts to reduce emissions — potentially lulling world leaders into the belief they can clean up their excess emissions with technology in the future.\n",
    "\n",
    "But proponents of increased carbon removal say the practice is essential to achieving the Paris targets — and that world leaders should strive to reduce global emissions as quickly as possible.\n",
    "\n",
    "“Meeting the Paris Agreement’s long-term temperature goals requires rapid greenhouse gas emissions reduction and near-term scale up of CDR,” said Smith, the University of Oxford scientist. “It’s not really an either-or situation.”\n",
    "\n",
    "\"\"\""
   ]
  },
  {
   "cell_type": "code",
   "execution_count": 158,
   "id": "37c448d4",
   "metadata": {},
   "outputs": [
    {
     "name": "stdout",
     "output_type": "stream",
     "text": [
      "\n",
      " 1. Carbon Dioxide Removal\n",
      "2. Paris Climate Targets\n",
      "3. Greenhouse Gas Emissions\n",
      "4. Carbon Removal Technologies\n",
      "5. Climate Change Mitigation\n"
     ]
    }
   ],
   "source": [
    "prompt = f\"\"\"\n",
    "Determine five topics that are being discussed in the following news story, which is delimited by triple backticks.\n",
    "\n",
    "Make each item one or two words long. \n",
    "\n",
    "Format your response as a list of items separated by commas.\n",
    "\n",
    "Article: '''{article}'''\n",
    "\"\"\"\n",
    "\n",
    "system_msg = \"You are a helpful assistant.\"\n",
    "\n",
    "messages=[\n",
    "    {\n",
    "      \"role\": \"system\",\n",
    "      \"content\": system_msg,\n",
    "         \"type\": \"text\"\n",
    "    },\n",
    "    {\n",
    "      \"role\": \"user\",\n",
    "      \"content\": prompt,\n",
    "         \"type\": \"text\"\n",
    "    }\n",
    "  ]\n",
    "\n",
    "response = get_completion_better(messages)\n",
    "print_responses(response)"
   ]
  },
  {
   "cell_type": "markdown",
   "id": "0fe47633",
   "metadata": {},
   "source": [
    "### Check whether certain topics are discussed in an article"
   ]
  },
  {
   "cell_type": "code",
   "execution_count": 159,
   "id": "e50749bb",
   "metadata": {},
   "outputs": [],
   "source": [
    "list_of_topics = [ 'carbon dioxide', \n",
    "                 'paris climate accord',\n",
    "                 'endangered species',\n",
    "                 'chocolate',\n",
    "                 'coffee']"
   ]
  },
  {
   "cell_type": "code",
   "execution_count": 161,
   "id": "b93177fb",
   "metadata": {},
   "outputs": [
    {
     "name": "stdout",
     "output_type": "stream",
     "text": [
      "\n",
      " ```json\n",
      "{\n",
      "  \"carbon dioxide\": 1,\n",
      "  \"paris climate accord\": 1,\n",
      "  \"endangered species\": 0,\n",
      "  \"chocolate\": 0,\n",
      "  \"coffee\": 0\n",
      "}\n",
      "```\n"
     ]
    }
   ],
   "source": [
    "prompt = f\"\"\"\n",
    "Determine whether each item in the following list of topics is a topic in the text below, which is delimited with triple backticks.\n",
    "\n",
    "Give your answer as a JSON with the name of the topic as the key and a 0 or 1 as the value. Use 0 if the topic is not in the article.\n",
    "\n",
    "List of topics: {list_of_topics}\n",
    "\n",
    "Article: '''{article}'''\n",
    "\"\"\"\n",
    "\n",
    "system_msg = \"You are a helpful assistant.\"\n",
    "\n",
    "messages=[\n",
    "    {\n",
    "      \"role\": \"system\",\n",
    "      \"content\": system_msg,\n",
    "         \"type\": \"text\"\n",
    "    },\n",
    "    {\n",
    "      \"role\": \"user\",\n",
    "      \"content\": prompt,\n",
    "         \"type\": \"text\"\n",
    "    }\n",
    "  ]\n",
    "\n",
    "response = get_completion_better(messages)\n",
    "print_responses(response)"
   ]
  },
  {
   "cell_type": "markdown",
   "id": "67eca089",
   "metadata": {},
   "source": [
    "## Your task\n",
    "\n",
    "Pick an article from your favorite publication and see if you can summarize it in different ways. Try to think of other ways of getting topics from the article. Some ideas:\n",
    "\n",
    "* List of ideas with an indicator for whether the writer thinks the idea is positive or negative\n",
    "* How important a particular idea is to the main point of the article\n",
    "* Using more than or or two words per topic -- does asking for longer topics help or not? "
   ]
  },
  {
   "cell_type": "code",
   "execution_count": null,
   "id": "de7701d2",
   "metadata": {},
   "outputs": [],
   "source": []
  },
  {
   "cell_type": "code",
   "execution_count": null,
   "id": "de4387ad",
   "metadata": {},
   "outputs": [],
   "source": []
  },
  {
   "cell_type": "code",
   "execution_count": null,
   "id": "fd05c6f0",
   "metadata": {},
   "outputs": [],
   "source": []
  },
  {
   "cell_type": "markdown",
   "id": "833637c3",
   "metadata": {},
   "source": [
    "### Example: Chain of thought prompting"
   ]
  },
  {
   "cell_type": "code",
   "execution_count": 163,
   "id": "d61884b7",
   "metadata": {},
   "outputs": [
    {
     "name": "stdout",
     "output_type": "stream",
     "text": [
      "\n",
      " 1. Let the distance between City A and City B be x miles. \n",
      "\n",
      "2. The time taken to travel from City A to City B at 60 mph is x/60 hours.\n",
      "\n",
      "3. The time taken to travel from City B back to City A at 40 mph is x/40 hours.\n",
      "\n",
      "4. The total travel time for the round trip is the sum of these two times: x/60 + x/40 = 5.\n",
      "\n",
      "5. To solve for x, we can find a common denominator: 2x/120 + 3x/120 = 5.\n",
      "\n",
      "6. Combining the fractions, we get 5x/120 = 5.\n",
      "\n",
      "7. Dividing both sides by 5, we find x = 24.\n",
      "\n",
      "Therefore, the distance between City A and City B is 24 miles.\n"
     ]
    }
   ],
   "source": [
    "prompt = f\"\"\"\n",
    "A high school student is solving the following problem:\n",
    "\n",
    "A train travels from City A to City B at a speed of 60 miles per hour. \\\n",
    "On its return trip, the train travels at a speed of 40 miles per hour. \\\n",
    "If the total travel time for the round trip is 5 hours, what is the distance between City A and City B?\n",
    "\n",
    "Let's break this problem down step by step (chain of thought) to find the solution. Give the solution if it exists.\n",
    "\"\"\"\n",
    "\n",
    "system_msg = \"Use chain of thought when possible to give your answer.\"\n",
    "\n",
    "messages=[\n",
    "    {\n",
    "      \"role\": \"system\",\n",
    "      \"content\": system_msg,\n",
    "         \"type\": \"text\"\n",
    "    },\n",
    "    {\n",
    "      \"role\": \"user\",\n",
    "      \"content\": prompt,\n",
    "         \"type\": \"text\"\n",
    "    }\n",
    "  ]\n",
    "\n",
    "response = get_completion_better(messages)\n",
    "print_responses(response)"
   ]
  },
  {
   "cell_type": "markdown",
   "id": "f18ab7ef",
   "metadata": {},
   "source": [
    "## Your task\n",
    "\n",
    "Try your hand at chain of thought prompting! You can ask ChatGPT for example math problems, for example. \n",
    "\n",
    "Play with the prompt to see if you can get better (or worse) steps. \n",
    "\n",
    "#### Bonus: Can you add one-shot prompting to help the model here?!"
   ]
  },
  {
   "cell_type": "code",
   "execution_count": null,
   "id": "b9e1ce07",
   "metadata": {},
   "outputs": [],
   "source": []
  },
  {
   "cell_type": "code",
   "execution_count": null,
   "id": "555447de",
   "metadata": {},
   "outputs": [],
   "source": []
  },
  {
   "cell_type": "markdown",
   "id": "099396f2",
   "metadata": {},
   "source": [
    "### Example: More chain of thought"
   ]
  },
  {
   "cell_type": "code",
   "execution_count": 165,
   "id": "beff1cc4",
   "metadata": {},
   "outputs": [
    {
     "name": "stdout",
     "output_type": "stream",
     "text": [
      "\n",
      " 1. **Step 1 - Absorption of Light**: Plants absorb sunlight through pigments like chlorophyll located in their chloroplasts.\n",
      "During this step, light energy is captured and converted into chemical energy in the form of ATP and NADPH.\n",
      "\n",
      "2. **Step 2 - Water Splitting**: The absorbed light energy is used to split water molecules into oxygen, protons, and electrons.\n",
      "This process, known as photolysis, releases oxygen as a byproduct into the atmosphere while providing electrons needed for the next stage.\n",
      "\n",
      "3. **Step 3 - Carbon Fixation**: Carbon dioxide from the atmosphere is taken up by the plant through small openings called stomata.\n",
      "Using the energy from ATP and NADPH, carbon fixation occurs in the Calvin cycle where carbon dioxide is converted into glucose (sugar) with the help of enzymes.\n",
      "\n",
      "4. **Overall Process**: In summary, photosynthesis is a complex biochemical reaction where plants convert light energy into chemical energy to produce glucose, releasing oxygen as a byproduct. This process is essential for the survival of plants and other living organisms that depend on them for food and oxygen.\n"
     ]
    }
   ],
   "source": [
    "prompt = f\"\"\"\n",
    "Explain how photosynthesis works step-by-step.\n",
    "\n",
    "For each step, summarize the step first with a couple of words. Write two or three sentences per step.\n",
    "\"\"\"\n",
    "\n",
    "system_msg = \"Use chain of thought when possible to give your answer.\"\n",
    "\n",
    "messages=[\n",
    "    {\n",
    "      \"role\": \"system\",\n",
    "      \"content\": system_msg,\n",
    "         \"type\": \"text\"\n",
    "    },\n",
    "    {\n",
    "      \"role\": \"user\",\n",
    "      \"content\": prompt,\n",
    "         \"type\": \"text\"\n",
    "    }\n",
    "  ]\n",
    "\n",
    "response = get_completion_better(messages)\n",
    "print_responses(response)"
   ]
  },
  {
   "cell_type": "code",
   "execution_count": null,
   "id": "2b205ebc",
   "metadata": {},
   "outputs": [],
   "source": []
  },
  {
   "cell_type": "markdown",
   "id": "2db3ed3a",
   "metadata": {},
   "source": [
    "### Example: Asking for refinement of a response"
   ]
  },
  {
   "cell_type": "code",
   "execution_count": 168,
   "id": "63255f29",
   "metadata": {},
   "outputs": [
    {
     "name": "stdout",
     "output_type": "stream",
     "text": [
      "Initial response:\n",
      "' Renewable energy technology is essential for the survival and progress of our planet. It addresses numerous environmental challenges such as global warming, ozone layer depletion, and acid rain, caused by the excessive utilization of fossil fuels. Renewable energy is a clean, inexhaustible, and increasingly competitive source of power that can substitute for the usage of fossil fuels in several applications. The use of renewable energy technology not only reduces the dependency on fossil fuel resources but also mitigates the harmful emissions and residues produced by conventional energy generation mechanisms. \n",
      "\n",
      "Moreover, the development and widespread implementation of renewable energy technologies can potentially boost economic growth and create jobs. The renewable energy sector is labor-intensive and can provide employment opportunities in manufacturing, installation, maintenance, and other related services. It also fosters innovation, technological progress and increases energy autonomy for countries that have limited domestic fossil fuel reserves. Hence, renewable energy technologies play a pivotal role in striking a balance between environmental sustainability and economic development. \n",
      "\n",
      "Refined response:\n",
      " Using green energy is vital for the health and growth of our planet. It helps tackle many environmental issues like global warming, damage to the ozone layer, and acid rain, which are largely caused by using too much fossil fuel. Green energy is a clean, limitless, and becoming a more competitive option that can replace fossil fuels in many areas. By using green energy, we can lessen our reliance on fossil fuels and reduce the amount of harmful waste that traditional energy methods produce.\n",
      "\n",
      "What's more, by developing and using more green energy, we could help our economies grow and create more jobs. The green energy industry needs a lot of workers for manufacturing, setting up, looking after, and other related services. It also encourages new technological advancements and can provide energy self-sufficiency for countries that don't have a lot of their own fossil fuels. In summary, green energy is crucial for balancing environmental care and economic growth.\n"
     ]
    }
   ],
   "source": [
    "initial_prompt = \"Write two paragraphs about the importance of renewable energy technology.\"\n",
    "\n",
    "response = client.chat.completions.create(\n",
    "    model=\"gpt-4\",\n",
    "    messages=[\n",
    "        {\"role\": \"user\", \"content\": initial_prompt}\n",
    "    ]\n",
    ")\n",
    "\n",
    "initial_response = response.choices[0].message.content\n",
    "print(\"Initial response:\\n'\", initial_response, \"\\n\")\n",
    "\n",
    "# Refine the response\n",
    "refinement_prompt = f\"Refine the following paragraphs to use less technical language:\\n\\n{initial_response}\"\n",
    "\n",
    "refined_response = client.chat.completions.create(\n",
    "    model=\"gpt-4\",\n",
    "    messages=[\n",
    "        {\"role\": \"user\", \"content\": refinement_prompt}\n",
    "    ]\n",
    ")\n",
    "\n",
    "print(\"Refined response:\\n\", refined_response.choices[0].message.content)"
   ]
  },
  {
   "cell_type": "code",
   "execution_count": null,
   "id": "ae293fe2",
   "metadata": {},
   "outputs": [],
   "source": []
  },
  {
   "cell_type": "markdown",
   "id": "4c98baf9",
   "metadata": {},
   "source": [
    "## Your task\n",
    "\n",
    "Try your hand at asking for refinement of a given paragraph of text!"
   ]
  },
  {
   "cell_type": "code",
   "execution_count": null,
   "id": "6db1c3e6",
   "metadata": {},
   "outputs": [],
   "source": []
  },
  {
   "cell_type": "code",
   "execution_count": null,
   "id": "673c0c4b",
   "metadata": {},
   "outputs": [],
   "source": []
  },
  {
   "cell_type": "markdown",
   "id": "fd2d41ec",
   "metadata": {},
   "source": [
    "### Example: Additional context from an outside source"
   ]
  },
  {
   "cell_type": "code",
   "execution_count": 170,
   "id": "34efe926",
   "metadata": {},
   "outputs": [],
   "source": [
    "import requests"
   ]
  },
  {
   "cell_type": "code",
   "execution_count": 185,
   "id": "da6fc04d",
   "metadata": {},
   "outputs": [],
   "source": [
    "# Function to fetch weather information from OpenWeather API\n",
    "def fetch_weather(city, api_key):\n",
    "    base_url = \"http://api.openweathermap.org/data/2.5/weather\"\n",
    "    params = {\n",
    "        'q': city,\n",
    "        'appid': api_key,\n",
    "        'units': 'metric'\n",
    "    }\n",
    "    response = requests.get(base_url, params=params)\n",
    "    return response.json()\n",
    "\n",
    "# OpenWeather API key\n",
    "openweather_api_key = ''\n",
    "\n",
    "# Fetch weather information for a specific city\n",
    "city = \"Chicago\"\n",
    "weather_info = fetch_weather(city, openweather_api_key)"
   ]
  },
  {
   "cell_type": "code",
   "execution_count": 186,
   "id": "8a14dbc8",
   "metadata": {},
   "outputs": [
    {
     "name": "stdout",
     "output_type": "stream",
     "text": [
      "{'coord': {'lon': -87.65, 'lat': 41.85}, 'weather': [{'id': 800, 'main': 'Clear', 'description': 'clear sky', 'icon': '01n'}], 'base': 'stations', 'main': {'temp': 10.86, 'feels_like': 9.93, 'temp_min': 7.04, 'temp_max': 12.24, 'pressure': 1017, 'humidity': 74}, 'visibility': 10000, 'wind': {'speed': 1.34, 'deg': 187, 'gust': 2.68}, 'clouds': {'all': 0}, 'dt': 1718100576, 'sys': {'type': 2, 'id': 2010190, 'country': 'US', 'sunrise': 1718100912, 'sunset': 1718155543}, 'timezone': -18000, 'id': 4887398, 'name': 'Chicago', 'cod': 200}\n"
     ]
    }
   ],
   "source": [
    "print(weather_info)"
   ]
  },
  {
   "cell_type": "code",
   "execution_count": 187,
   "id": "6637d96d",
   "metadata": {},
   "outputs": [
    {
     "name": "stdout",
     "output_type": "stream",
     "text": [
      "Based on the current weather, it might be a good idea to layer up. You can wear a light sweater or long sleeved shirt with a light to medium-weight jacket on top. Pair it with jeans or other warm pants and comfortable shoes. A scarf might also be useful if you feel a bit chilly. Don't forget to bring sunglasses since the sky is clear.\n"
     ]
    }
   ],
   "source": [
    "# Extract relevant details from the weather information\n",
    "temperature = weather_info['main']['temp']\n",
    "weather_description = weather_info['weather'][0]['description']\n",
    "\n",
    "# Create a prompt using the fetched weather information\n",
    "prompt = f\"\"\"\n",
    "The current weather in {city} is {temperature}°C with {weather_description}. \n",
    "\n",
    "What kind of outfit do you suggest I wear today based on the weather.\n",
    "\"\"\"\n",
    "\n",
    "# Make the API call to OpenAI with the prompt\n",
    "response = client.chat.completions.create(\n",
    "    model=\"gpt-4\",\n",
    "    messages=[\n",
    "        {\"role\": \"user\", \"content\": prompt}\n",
    "    ]\n",
    ")\n",
    "\n",
    "# Print the response\n",
    "print(response.choices[0].message.content)"
   ]
  },
  {
   "cell_type": "markdown",
   "id": "1db66d22",
   "metadata": {},
   "source": [
    "### Example: Using an outside API for context"
   ]
  },
  {
   "cell_type": "code",
   "execution_count": 181,
   "id": "c958501e",
   "metadata": {},
   "outputs": [
    {
     "name": "stdout",
     "output_type": "stream",
     "text": [
      "Once upon a time, in the corners of a bustling city, there lived an adorable Pomeranian named Pixie. Pixie was no ordinary Pomeranian; she was both bouncy and frolicsome, yet held a touch of elegance in her gleaming caramel fur. Her soulful eyes were as black as obsidian, containing a universe of curiosity and enthusiasm.\n",
      "\n",
      "Even when the city was still asleep, her day would start with the break of dawn. The soft morning light illuminated her fur, setting it ablaze resembling a tiny, radiant sunrise. With a spring in her step and a wag in her tail, Pixie would embark on her daily morning adventures.\n",
      "\n",
      "She was the only dog in her apartment complex, which made her quite popular among the residents. Her petite size didn't stop her from making friends with all the neighborhood dogs, big and small. From the sniffer on the first floor to the howler on the eighth, Pixie loved and was loved by all.\n",
      "\n",
      "A typical morning included a playful chase with the squirrels in the local park. After enjoying the crunchy autumn leaves beneath her paws, she returned home, still pulsating with energy. A soft nudge and a hint of puppy eyes would be the magic charm for her owner, Mr. Higgins, to shower her with her favorite breakfast, kibble with a dash of bacon.\n",
      "\n",
      "After her scrumptious breakfast, Pixie took a short nap to marshal her energy. Her dreams were filled with chasing butterflies and digging up hidden treasures, resembling her adventures in the outside world. She would often wake to the sound of the familiar postman, delivering letters and always had a treat just for her.\n",
      "\n",
      "In the early afternoon, Pixie accompanied Mr. Higgins through the city streets, her enchanting aura drawing smiles from nearby pedestrians. She was popular not only among her apartment dwellers but the neighborhood children too. Her soft fur was often used as a wish-making factory; they believed a fluff of Pixie's fur sent to the wind could bring their deepest wishes to life.\n",
      "\n",
      "As the day unwound and darkness draped over the city, Pixie would return home, her energy spent but her heart still swelling with joy. After a hearty dinner, she would snuggle against Mr. Higgins, her head resting on his lap, gradually drifting to sleep with fairy tales echoing in her ears.\n",
      "\n",
      "Each day was a piece of the beautiful mosaic that was Pixie's life. Being the bundle of joy she was, even the mundane was an adventure to her. As her eyes would close, she'd look forward to another exciting day, filled with new friends, new games, and new tales to weave into her joyful existence.\n",
      "\n"
     ]
    }
   ],
   "source": [
    "# Function to fetch a random dog image from Dog CEO's Dog API\n",
    "def fetch_random_dog_image():\n",
    "    base_url = \"https://dog.ceo/api/breeds/image/random\"\n",
    "    response = requests.get(base_url)\n",
    "    return response.json()\n",
    "\n",
    "# Fetch random dog image\n",
    "dog_info = fetch_random_dog_image()\n",
    "\n",
    "# Extract relevant details from the dog information\n",
    "dog_image_url = dog_info['message']\n",
    "\n",
    "# Create a prompt using the fetched dog image information\n",
    "prompt = f\"\"\"\n",
    "I just saw the cutest dog picture! Here's the image URL: {dog_image_url}. \n",
    "\n",
    "Can you write a short story about a day in the life of this dog?\n",
    "\"\"\"\n",
    "\n",
    "# Make the API call to OpenAI with the prompt\n",
    "response = client.chat.completions.create(\n",
    "    model=\"gpt-4\",\n",
    "    messages=[\n",
    "        {\"role\": \"user\", \"content\": prompt}\n",
    "    ]\n",
    ")\n",
    "\n",
    "# Print the response\n",
    "print(response.choices[0].message.content)"
   ]
  },
  {
   "cell_type": "code",
   "execution_count": 182,
   "id": "e03107d5",
   "metadata": {},
   "outputs": [
    {
     "name": "stdout",
     "output_type": "stream",
     "text": [
      "https://images.dog.ceo/breeds/pomeranian/n02112018_3494.jpg\n"
     ]
    }
   ],
   "source": [
    "print(dog_image_url)"
   ]
  },
  {
   "cell_type": "code",
   "execution_count": null,
   "id": "aa02f480",
   "metadata": {},
   "outputs": [],
   "source": []
  },
  {
   "cell_type": "markdown",
   "id": "feaef3df",
   "metadata": {},
   "source": [
    "## Example: Batch prompting with k-shot context"
   ]
  },
  {
   "cell_type": "code",
   "execution_count": 190,
   "id": "14122ee2",
   "metadata": {},
   "outputs": [
    {
     "name": "stdout",
     "output_type": "stream",
     "text": [
      "Review: The service at the restaurant was fantastic, and the food was delicious.\n",
      "Sentiment: Positive\n",
      "\n",
      "Review: I didn't like the movie at all. It was too long and boring.\n",
      "Sentiment: Negative\n",
      "\n",
      "Review: The book was an interesting read, with both good and bad parts.\n",
      "Sentiment: Neutral\n",
      "\n",
      "Review: The weather today is neither too hot nor too cold, just perfect.\n",
      "Sentiment: Neutral\n",
      "\n"
     ]
    }
   ],
   "source": [
    "# Define k-shot examples for sentiment analysis\n",
    "k_shot_examples = \"\"\"\n",
    "Classify the sentiment of the following reviews as Positive, Negative, or Neutral.\n",
    "\n",
    "Review: \"I absolutely love this product! It exceeded all my expectations.\"\n",
    "Sentiment: Positive\n",
    "\n",
    "Review: \"This is the worst purchase I have ever made. Completely dissatisfied.\"\n",
    "Sentiment: Negative\n",
    "\n",
    "Review: \"The product is okay, not great but not terrible either.\"\n",
    "Sentiment: Neutral\n",
    "\"\"\"\n",
    "\n",
    "# List of reviews to classify (batch input)\n",
    "reviews = [\n",
    "    \"The service at the restaurant was fantastic, and the food was delicious.\",\n",
    "    \"I didn't like the movie at all. It was too long and boring.\",\n",
    "    \"The book was an interesting read, with both good and bad parts.\",\n",
    "    \"The weather today is neither too hot nor too cold, just perfect.\"\n",
    "]\n",
    "\n",
    "# Function to create the prompt for each review\n",
    "def create_prompt(review):\n",
    "    return f\"\"\"\n",
    "{k_shot_examples}\n",
    "\n",
    "Review: \"{review}\"\n",
    "Sentiment:\n",
    "\"\"\"\n",
    "\n",
    "# Collect responses for each review\n",
    "responses = []\n",
    "\n",
    "for review in reviews:\n",
    "    prompt = create_prompt(review)\n",
    "    \n",
    "    response = client.chat.completions.create(\n",
    "        model=\"gpt-4\",\n",
    "        messages=[\n",
    "            {\"role\": \"user\", \"content\": prompt}\n",
    "        ]\n",
    "    )\n",
    "    \n",
    "    sentiment = response.choices[0].message.content\n",
    "    responses.append((review, sentiment))\n",
    "\n",
    "# Print the results\n",
    "for review, sentiment in responses:\n",
    "    print(f\"Review: {review}\\nSentiment: {sentiment}\\n\")"
   ]
  },
  {
   "cell_type": "code",
   "execution_count": null,
   "id": "31516da2",
   "metadata": {},
   "outputs": [],
   "source": []
  },
  {
   "cell_type": "code",
   "execution_count": null,
   "id": "3a6ddd4d",
   "metadata": {},
   "outputs": [],
   "source": []
  },
  {
   "cell_type": "markdown",
   "id": "a00407d9",
   "metadata": {},
   "source": [
    "## Example: Prompt chaining"
   ]
  },
  {
   "cell_type": "code",
   "execution_count": 192,
   "id": "f5e27ee8",
   "metadata": {},
   "outputs": [
    {
     "name": "stdout",
     "output_type": "stream",
     "text": [
      "Extracted key points:\n",
      " - The world is not extracting enough carbon dioxide from the atmosphere to meet the Paris climate targets, and the gap is increasing every year, according to a new report.\n",
      "- Currently, nations are removing around 2 billion metric tons of carbon dioxide a year by planting trees, but this needs to be at least 7 billion tons annually by mid-century.\n",
      "- Scientists believe the primary strategy for addressing climate change should be a decrease in greenhouse gas emissions. Moreover, some carbon removal is necessary to limit global warming to 1.5 or 2 degrees Celsius.\n",
      "- Some sectors of the economy will not be able to fully decarbonize in a few decades, meaning residual emissions will need to be offset by carbon removal.\n",
      "- The most favored method of carbon removal is currently planting forests. However, new methods are in development, with a small number of these already contributing to global carbon removal capacity.\n",
      "- Interest and investment in carbon removal have increased in recent years. Although there has been a major uptick in demonstration programs for new kinds of carbon removal techniques, the number of new patents for carbon removal methods has slowed since 2010.\n",
      "- The voluntary carbon market provides a means for companies and others to purchase and trade carbon credits. This market, however, has faced criticism due to the question of its effectiveness.\n",
      "- The report suggests that the governments need to establish policies that would prompt more carbon removal innovations and expansions.\n",
      "- Most nations do not yet have a comprehensive plan for achieving net zero in the forthcoming decades, according to recent studies. Even the best-case scenarios estimate a global carbon removal of about 4.4 billion tons by mid-century, short of the targeted range of 7 billion to 9 billion metric tons.\n",
      "- Some experts fear more investment in carbon removal could divert from efforts to reduce emissions, but supporters argue carbon removal is key to achieving the goals of the Paris Agreement. \n",
      "\n",
      "\n",
      "Bulleted list:\n",
      " - The world is not extracting enough carbon dioxide from the atmosphere to meet the Paris climate targets, with the gap increasing every year, as per a recent report.\n",
      "- Current carbon dioxide removal levels sit at around 2 billion metric tons a year through tree planting, but this needs to increase to at least 7 billion tons annually by mid-century.\n",
      "- Scientists advocate for a decrease in greenhouse gas emissions as the primary strategy for tackling climate change. They also highlight the need for some carbon removal to limit global warming to 1.5 or 2 degrees Celsius.\n",
      "- Certain sectors of the economy will struggle to fully decarbonize within a few decades. Residual emissions from these sectors will therefore need to be offset by carbon removal.\n",
      "- Forest planting represents the most favored method of carbon removal, but other methods are in development. A small number of these new techniques are already making a contribution to global carbon removal capacity.\n",
      "- Interest and investment in carbon removal techniques have seen a significant rise in recent years, along with an increase in demonstration programs for new types of carbon removal methods. However, the rate of new patents for these methods has slowed since 2010.\n",
      "- The voluntary carbon market lets companies and individuals buy and trade carbon credits. However, it has faced criticism over questions about its effectiveness.\n",
      "- The report calls for governments to implement policies that stimulate more carbon removal innovations and expansions.\n",
      "- Recent studies show that most nations lack a comprehensive strategy for achieving net zero in the coming decades. Even optimistic scenarios predict a global carbon removal of about 4.4 billion tons by mid-century, falling short of the target range of 7 billion to 9 billion metric tons.\n",
      "- Some experts express concern that increased investment in carbon removal could detract from efforts to reduce emissions. Supporters, however, maintain that carbon removal plays a crucial role in achieving the goals of the Paris Agreement. \n",
      "\n",
      "\n",
      "Summary:\n",
      " A recent report states that the world is not extracting enough carbon dioxide from the atmosphere to meet the Paris climate targets, with the shortfall growing annually. Current carbon dioxide removal levels are about 2 billion metric tons a year through tree planting, but need to rise to at least 7 billion tons annually by mid-century. Scientists emphasize the need for decreasing greenhouse gas emissions as the key approach to addressing climate change, but also recognize the necessity for carbon removal to contain global warming within 1.5 or 2 degrees Celsius. Industrial sectors facing difficulties in decarbonization within a few decades will require carbon offset through removal. Forest planting is the preferred carbon removal technique while other methods are under development. Interest and investment in carbon removal efforts have increased recently, though the number of new patents has declined since 2010. The report urges governments to promote policies fostering more carbon removal innovation and expansion. It is noted that most nations lack a robust strategy for net zero achievement in the upcoming decades with even the best scenarios predicting global carbon removal of around 4.4 billion tons by mid-century, considerably under the target of 7 to 9 billion metric tons. The report addressed concerns that higher investment in carbon removal might hinder emission reduction efforts, but proponents argue the key role of carbon removal in accomplishing the Paris Agreement goals.\n"
     ]
    }
   ],
   "source": [
    "# Step 1: Extract key points from a piece of text\n",
    "\n",
    "text = article # we'll use the article from the prior example \n",
    "\n",
    "extract_prompt = f\"\"\"\n",
    "Extract the key points from the following text:\n",
    "\n",
    "Text: \"{text}\"\n",
    "\n",
    "Key Points:\n",
    "\"\"\"\n",
    "\n",
    "response = client.chat.completions.create(\n",
    "    model=\"gpt-4\",\n",
    "    messages=[\n",
    "        {\"role\": \"user\", \"content\": extract_prompt}\n",
    "    ]\n",
    ")\n",
    "\n",
    "key_points = response.choices[0].message.content\n",
    "print(\"Extracted key points:\\n\", key_points, \"\\n\\n\")\n",
    "\n",
    "# Step 2: Transform the key points into a bulleted list\n",
    "transform_prompt = f\"\"\"\n",
    "Transform the following key points into a bulleted list:\n",
    "\n",
    "Key Points: \"{key_points}\"\n",
    "\n",
    "Bulleted List:\n",
    "\"\"\"\n",
    "\n",
    "response = client.chat.completions.create(\n",
    "    model=\"gpt-4\",\n",
    "    messages=[\n",
    "        {\"role\": \"user\", \"content\": transform_prompt}\n",
    "    ]\n",
    ")\n",
    "\n",
    "bulleted_list = response.choices[0].message.content\n",
    "print(\"Bulleted list:\\n\", bulleted_list, \"\\n\\n\")\n",
    "\n",
    "# Step 3: Summarize the bulleted list into a concise paragraph\n",
    "summarize_prompt = f\"\"\"\n",
    "Summarize the following bulleted list into a concise paragraph:\n",
    "\n",
    "Bulleted List: \"{bulleted_list}\"\n",
    "\n",
    "Summary:\n",
    "\"\"\"\n",
    "\n",
    "response = client.chat.completions.create(\n",
    "    model=\"gpt-4\",\n",
    "    messages=[\n",
    "        {\"role\": \"user\", \"content\": summarize_prompt}\n",
    "    ]\n",
    ")\n",
    "\n",
    "summary = response.choices[0].message.content\n",
    "print(\"Summary:\\n\", summary)"
   ]
  },
  {
   "cell_type": "code",
   "execution_count": null,
   "id": "b4dd5434",
   "metadata": {},
   "outputs": [],
   "source": []
  }
 ],
 "metadata": {
  "kernelspec": {
   "display_name": "Python 3 (ipykernel)",
   "language": "python",
   "name": "python3"
  },
  "language_info": {
   "codemirror_mode": {
    "name": "ipython",
    "version": 3
   },
   "file_extension": ".py",
   "mimetype": "text/x-python",
   "name": "python",
   "nbconvert_exporter": "python",
   "pygments_lexer": "ipython3",
   "version": "3.11.4"
  }
 },
 "nbformat": 4,
 "nbformat_minor": 5
}
