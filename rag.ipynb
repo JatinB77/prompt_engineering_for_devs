{
 "cells": [
  {
   "cell_type": "code",
   "execution_count": 1,
   "id": "28e1762a",
   "metadata": {},
   "outputs": [],
   "source": [
    "import os\n",
    "from openai import OpenAI"
   ]
  },
  {
   "cell_type": "code",
   "execution_count": 4,
   "id": "7f191ab2",
   "metadata": {},
   "outputs": [],
   "source": [
    "from sklearn.feature_extraction.text import TfidfVectorizer\n",
    "from sklearn.metrics.pairwise import cosine_similarity\n",
    "import numpy as np"
   ]
  },
  {
   "cell_type": "code",
   "execution_count": 5,
   "id": "e1de05a9",
   "metadata": {},
   "outputs": [],
   "source": [
    "client = OpenAI()"
   ]
  },
  {
   "cell_type": "code",
   "execution_count": 6,
   "id": "1d01c4a2",
   "metadata": {},
   "outputs": [],
   "source": [
    "# if you didn't set an environment variable, you can use set it manually here\n",
    "# note that this is NOT good practice, and you shouldn't leave plaintext API keys in scripts!\n",
    "\n",
    "import openai\n",
    "openai.api_key  = \"\""
   ]
  },
  {
   "cell_type": "code",
   "execution_count": 7,
   "id": "5932e813",
   "metadata": {},
   "outputs": [],
   "source": [
    "corpus = [\n",
    "    \"Artificial intelligence (AI) is intelligence demonstrated by machines, in contrast to the natural intelligence displayed by humans and animals.\",\n",
    "    \"Machine learning (ML) is a subset of AI that involves the use of algorithms and statistical models to perform tasks without using explicit instructions.\",\n",
    "    \"Natural language processing (NLP) is a field of AI that focuses on the interaction between computers and humans through natural language.\",\n",
    "    \"Deep learning is a subset of ML that uses neural networks with many layers to analyze various types of data.\"\n",
    "]\n"
   ]
  },
  {
   "cell_type": "code",
   "execution_count": 8,
   "id": "2cd271f2",
   "metadata": {},
   "outputs": [
    {
     "name": "stdout",
     "output_type": "stream",
     "text": [
      "Retrieved Document: Natural language processing (NLP) is a field of AI that focuses on the interaction between computers and humans through natural language.\n"
     ]
    }
   ],
   "source": [
    "def retrieve_document(query, corpus):\n",
    "    vectorizer = TfidfVectorizer().fit_transform(corpus + [query])\n",
    "    vectors = vectorizer.toarray()\n",
    "    \n",
    "    cosine_matrix = cosine_similarity(vectors)\n",
    "    query_vector = cosine_matrix[-1][:-1]\n",
    "    \n",
    "    most_similar_doc_index = np.argmax(query_vector)\n",
    "    return corpus[most_similar_doc_index]\n",
    "\n",
    "# Example query\n",
    "query = \"What is natural language processing?\"\n",
    "retrieved_doc = retrieve_document(query, corpus)\n",
    "print(f\"Retrieved Document: {retrieved_doc}\")\n"
   ]
  },
  {
   "cell_type": "code",
   "execution_count": 9,
   "id": "cdab4e12",
   "metadata": {},
   "outputs": [
    {
     "name": "stdout",
     "output_type": "stream",
     "text": [
      "Generated Answer: Natural Language Processing, often abbreviated as NLP, is a subset of Artificial Intelligence (AI) that concentrates on how computers can understand, interpret, and respond to human language in a valuable and meaningful way. This field aims to bridge the gap between human communication and computer understanding, allowing for a more seamless interaction and understanding between machines and humans. It allows computers to read text, hear speech, interpret it, measure sentiment, and determine which parts are important. Its main goal is to read, decipher, understand, and make sense of the human language in a valuable manner.\n"
     ]
    }
   ],
   "source": [
    "# Create a prompt using the query and the retrieved document\n",
    "prompt = f\"\"\"\n",
    "Query: {query}\n",
    "Retrieved Document: {retrieved_doc}\n",
    "\n",
    "Based on the retrieved document, generate a detailed answer to the query.\n",
    "Answer:\n",
    "\"\"\"\n",
    "\n",
    "# Make the API call to OpenAI with the prompt\n",
    "response = client.chat.completions.create(\n",
    "    model=\"gpt-4\",\n",
    "    messages=[\n",
    "        {\"role\": \"system\", \"content\": \"You are a knowledgeable assistant.\"},\n",
    "        {\"role\": \"user\", \"content\": prompt}\n",
    "    ]\n",
    ")\n",
    "\n",
    "# Print the generated response\n",
    "generated_answer = response.choices[0].message.content\n",
    "print(f\"Generated Answer: {generated_answer}\")"
   ]
  },
  {
   "cell_type": "code",
   "execution_count": null,
   "id": "176f50df",
   "metadata": {},
   "outputs": [],
   "source": []
  }
 ],
 "metadata": {
  "kernelspec": {
   "display_name": "Python 3 (ipykernel)",
   "language": "python",
   "name": "python3"
  },
  "language_info": {
   "codemirror_mode": {
    "name": "ipython",
    "version": 3
   },
   "file_extension": ".py",
   "mimetype": "text/x-python",
   "name": "python",
   "nbconvert_exporter": "python",
   "pygments_lexer": "ipython3",
   "version": "3.11.4"
  }
 },
 "nbformat": 4,
 "nbformat_minor": 5
}
